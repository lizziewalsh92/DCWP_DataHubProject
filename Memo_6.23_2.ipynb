{
 "cells": [
  {
   "cell_type": "code",
   "execution_count": 1,
   "id": "5c15bd34-f9eb-4e2b-bbd6-abf225f9c154",
   "metadata": {},
   "outputs": [],
   "source": [
    "import pandas as pd"
   ]
  },
  {
   "cell_type": "code",
   "execution_count": 2,
   "id": "63542fcf-8fce-4696-802e-788d0b9f1332",
   "metadata": {},
   "outputs": [],
   "source": [
    "DF_CONF = pd.read_csv(\"Confiscations_RowbyRow_2.csv\")"
   ]
  },
  {
   "cell_type": "code",
   "execution_count": 3,
   "id": "75a6cbc9-b5af-491b-8518-1bf00b3f432f",
   "metadata": {},
   "outputs": [],
   "source": [
    "DF_CHARGES = pd.read_csv(\"Charges_2.csv\")"
   ]
  },
  {
   "cell_type": "code",
   "execution_count": 4,
   "id": "9560be8b-fa1f-48c3-ac91-9001327ed462",
   "metadata": {},
   "outputs": [],
   "source": [
    "DF_CONF_INSPECT = pd.read_csv(\"ConfiscationsAndInspections_2.csv\")"
   ]
  },
  {
   "cell_type": "code",
   "execution_count": 6,
   "id": "14ccf2c7-63d8-4462-b743-1116531bcd8c",
   "metadata": {},
   "outputs": [],
   "source": [
    "DF_CONS_COMPLAINTS = pd.read_csv(\"ConsumerComplaints_2.csv\")"
   ]
  },
  {
   "cell_type": "code",
   "execution_count": 7,
   "id": "a1c46e86-cd55-4cee-8500-d623f371caea",
   "metadata": {},
   "outputs": [
    {
     "name": "stdout",
     "output_type": "stream",
     "text": [
      "<class 'pandas.core.frame.DataFrame'>\n",
      "RangeIndex: 1419 entries, 0 to 1418\n",
      "Data columns (total 33 columns):\n",
      " #   Column                         Non-Null Count  Dtype  \n",
      "---  ------                         --------------  -----  \n",
      " 0   Certificate of Inspection      1419 non-null   object \n",
      " 1   Inspection Number              1419 non-null   object \n",
      " 2   Date of Occurance              1419 non-null   object \n",
      " 3   Year (added)                   1419 non-null   int64  \n",
      " 4   Business Unique ID             1419 non-null   object \n",
      " 5   Business Name                  1419 non-null   object \n",
      " 6   DBA Trade Name                 527 non-null    object \n",
      " 7   Business Category              1419 non-null   object \n",
      " 8   Inspection type                1419 non-null   object \n",
      " 9   Device Category                1419 non-null   object \n",
      " 10  Device Class                   1403 non-null   object \n",
      " 11  Device Type                    1419 non-null   object \n",
      " 12  Devices Inspected              1419 non-null   int64  \n",
      " 13  Devices Approved               1419 non-null   int64  \n",
      " 14  Devices Condemned/Confiscated  1419 non-null   int64  \n",
      " 15  Confiscated                    1419 non-null   object \n",
      " 16  Address Type                   1419 non-null   object \n",
      " 17  Building Number                1416 non-null   object \n",
      " 18  Street Name                    1419 non-null   object \n",
      " 19  Street Name 2                  4 non-null      object \n",
      " 20  Unit Type                      16 non-null     object \n",
      " 21  Unit                           9 non-null      object \n",
      " 22  City                           1419 non-null   object \n",
      " 23  State                          1419 non-null   object \n",
      " 24  Postcode                       1419 non-null   int64  \n",
      " 25  Borough                        1419 non-null   object \n",
      " 26  Community Board                1413 non-null   float64\n",
      " 27  Council District               1413 non-null   float64\n",
      " 28  BIN                            1405 non-null   float64\n",
      " 29  BBL                            1408 non-null   float64\n",
      " 30  NTA                            1391 non-null   object \n",
      " 31  Latitude                       1414 non-null   float64\n",
      " 32  Longitude                      1414 non-null   float64\n",
      "dtypes: float64(6), int64(5), object(22)\n",
      "memory usage: 366.0+ KB\n"
     ]
    }
   ],
   "source": [
    "DF_CONF.info()"
   ]
  },
  {
   "cell_type": "code",
   "execution_count": 8,
   "id": "918a8c11-218b-458f-8ec0-d114f541de0e",
   "metadata": {},
   "outputs": [
    {
     "name": "stdout",
     "output_type": "stream",
     "text": [
      "<class 'pandas.core.frame.DataFrame'>\n",
      "RangeIndex: 80712 entries, 0 to 80711\n",
      "Data columns (total 18 columns):\n",
      " #   Column                     Non-Null Count  Dtype  \n",
      "---  ------                     --------------  -----  \n",
      " 0   Record ID                  80712 non-null  object \n",
      " 1   Related Record Type        80712 non-null  object \n",
      " 2   Business Unique ID         80712 non-null  object \n",
      " 3   Business Name              80712 non-null  object \n",
      " 4   DBA/Trade Name             7057 non-null   object \n",
      " 5   Business Category          80708 non-null  object \n",
      " 6   Certificate of Inspection  79688 non-null  object \n",
      " 7   Inspection Number          79700 non-null  object \n",
      " 8   NOH Number                 80712 non-null  object \n",
      " 9   Violation Date             80712 non-null  object \n",
      " 10  Charge                     80712 non-null  object \n",
      " 11  Charge Count               80708 non-null  float64\n",
      " 12  Cure Eligible              71630 non-null  object \n",
      " 13  Cured                      8366 non-null   object \n",
      " 14  Outcome                    63393 non-null  object \n",
      " 15  Guilty                     58154 non-null  float64\n",
      " 16  Not Guilty                 8836 non-null   float64\n",
      " 17  Dismissed                  852 non-null    float64\n",
      "dtypes: float64(4), object(14)\n",
      "memory usage: 11.1+ MB\n"
     ]
    }
   ],
   "source": [
    "DF_CHARGES.info()"
   ]
  },
  {
   "cell_type": "code",
   "execution_count": 9,
   "id": "9e1b6c4e-f28f-4647-b53a-91c5db16b3b3",
   "metadata": {},
   "outputs": [
    {
     "name": "stdout",
     "output_type": "stream",
     "text": [
      "<class 'pandas.core.frame.DataFrame'>\n",
      "RangeIndex: 12755 entries, 0 to 12754\n",
      "Data columns (total 33 columns):\n",
      " #   Column                         Non-Null Count  Dtype  \n",
      "---  ------                         --------------  -----  \n",
      " 0   Certificate of Inspection      12755 non-null  object \n",
      " 1   Inspection Number              12755 non-null  object \n",
      " 2   Date of Occurance              12755 non-null  object \n",
      " 3   Year (added)                   12755 non-null  int64  \n",
      " 4   Business Unique ID             12750 non-null  object \n",
      " 5   Business Name                  12755 non-null  object \n",
      " 6   DBA Trade Name                 3552 non-null   object \n",
      " 7   Business Category              12755 non-null  object \n",
      " 8   Inspection type                12755 non-null  object \n",
      " 9   Device Category                12755 non-null  object \n",
      " 10  Device Class                   12699 non-null  object \n",
      " 11  Device Type                    12755 non-null  object \n",
      " 12  Devices Inspected              12755 non-null  int64  \n",
      " 13  Devices Approved               12755 non-null  int64  \n",
      " 14  Devices Condemned/Confiscated  12755 non-null  int64  \n",
      " 15  Confiscated                    1419 non-null   object \n",
      " 16  Address Type                   12755 non-null  object \n",
      " 17  Building Number                12642 non-null  object \n",
      " 18  Street Name                    12755 non-null  object \n",
      " 19  Street Name 2                  125 non-null    object \n",
      " 20  Unit Type                      305 non-null    object \n",
      " 21  Unit                           279 non-null    object \n",
      " 22  City                           12750 non-null  object \n",
      " 23  State                          12750 non-null  object \n",
      " 24  Postcode                       12755 non-null  int64  \n",
      " 25  Borough                        12755 non-null  object \n",
      " 26  Community Board                12695 non-null  float64\n",
      " 27  Council District               12695 non-null  float64\n",
      " 28  BIN                            12533 non-null  float64\n",
      " 29  BBL                            12542 non-null  float64\n",
      " 30  NTA                            12349 non-null  object \n",
      " 31  Latitude                       12702 non-null  float64\n",
      " 32  Longitude                      12702 non-null  float64\n",
      "dtypes: float64(6), int64(5), object(22)\n",
      "memory usage: 3.2+ MB\n"
     ]
    }
   ],
   "source": [
    "DF_CONF_INSPECT.info()"
   ]
  },
  {
   "cell_type": "code",
   "execution_count": 11,
   "id": "505ce81d-6517-4adb-baab-85d2259766db",
   "metadata": {},
   "outputs": [
    {
     "data": {
      "text/plain": [
       "array(['Supermarket - 819', 'Grocery-Retail - 808', 'Retail Laundry',\n",
       "       'Secondhand Dealer [General] - 006', 'Airline',\n",
       "       'Gas Station-Retail - 815', 'Fuel Oil Dealer - 814',\n",
       "       'Gasoline Truck-Retail - 822', 'Wholesale Food Market - 718'],\n",
       "      dtype=object)"
      ]
     },
     "execution_count": 11,
     "metadata": {},
     "output_type": "execute_result"
    }
   ],
   "source": [
    "DF_CONF[\"Business Category\"].unique()"
   ]
  },
  {
   "cell_type": "code",
   "execution_count": 12,
   "id": "e26ed25b-9898-4590-b51a-4b5d182915a4",
   "metadata": {},
   "outputs": [
    {
     "data": {
      "text/plain": [
       "Business Category\n",
       "Gas Station-Retail - 815             1178\n",
       "Fuel Oil Dealer - 814                 110\n",
       "Supermarket - 819                      67\n",
       "Grocery-Retail - 808                   41\n",
       "Retail Laundry                         12\n",
       "Gasoline Truck-Retail - 822             7\n",
       "Wholesale Food Market - 718             2\n",
       "Secondhand Dealer [General] - 006       1\n",
       "Airline                                 1\n",
       "Name: count, dtype: int64"
      ]
     },
     "execution_count": 12,
     "metadata": {},
     "output_type": "execute_result"
    }
   ],
   "source": [
    "DF_CONF[\"Business Category\"].value_counts()"
   ]
  },
  {
   "cell_type": "code",
   "execution_count": 13,
   "id": "ceeb06f4-686a-4fca-854b-fb4322e7e9e0",
   "metadata": {},
   "outputs": [
    {
     "data": {
      "text/plain": [
       "0.8295774647887324"
      ]
     },
     "execution_count": 13,
     "metadata": {},
     "output_type": "execute_result"
    }
   ],
   "source": [
    "## 82% of were done at Gas Station Retails\n",
    "1178/1420"
   ]
  },
  {
   "cell_type": "code",
   "execution_count": 14,
   "id": "fd794837-3b47-4a6e-9129-0ed34e784618",
   "metadata": {},
   "outputs": [
    {
     "data": {
      "text/plain": [
       "Borough\n",
       "Brooklyn         491\n",
       "Queens           463\n",
       "Bronx            259\n",
       "Staten Island    116\n",
       "Manhattan         87\n",
       "Outside NYC        3\n",
       "Name: count, dtype: int64"
      ]
     },
     "execution_count": 14,
     "metadata": {},
     "output_type": "execute_result"
    }
   ],
   "source": [
    "DF_CONF[\"Borough\"].value_counts()"
   ]
  },
  {
   "cell_type": "code",
   "execution_count": 16,
   "id": "b1931906-f394-4cb4-afc6-b24da0247b59",
   "metadata": {},
   "outputs": [
    {
     "data": {
      "text/plain": [
       "0.3460183227625088"
      ]
     },
     "execution_count": 16,
     "metadata": {},
     "output_type": "execute_result"
    }
   ],
   "source": [
    "491/1419"
   ]
  },
  {
   "cell_type": "code",
   "execution_count": 17,
   "id": "4f5f4ca2-5ddb-4adc-82f3-6ec6d5add926",
   "metadata": {},
   "outputs": [
    {
     "data": {
      "text/plain": [
       "0.3262861169837914"
      ]
     },
     "execution_count": 17,
     "metadata": {},
     "output_type": "execute_result"
    }
   ],
   "source": [
    "463/1419"
   ]
  },
  {
   "cell_type": "code",
   "execution_count": 18,
   "id": "80ce9692-ef52-4c62-a158-2a6a4000b591",
   "metadata": {},
   "outputs": [
    {
     "data": {
      "text/plain": [
       "Business Unique ID\n",
       "BA-1545133-2022    13\n",
       "BA-1370101-2022    12\n",
       "BA-1551335-2022     7\n",
       "BA-1678688-2023     6\n",
       "BA-1221817-2022     5\n",
       "                   ..\n",
       "BA-1541049-2022     1\n",
       "BA-1309256-2022     1\n",
       "BA-1305817-2022     1\n",
       "BA-1418707-2022     1\n",
       "BA-1692104-2024     1\n",
       "Name: count, Length: 859, dtype: int64"
      ]
     },
     "execution_count": 18,
     "metadata": {},
     "output_type": "execute_result"
    }
   ],
   "source": [
    "DF_CONF[\"Business Unique ID\"].value_counts()"
   ]
  },
  {
   "cell_type": "code",
   "execution_count": 20,
   "id": "5400a2bf-38c3-4489-8082-2e915c6aaef9",
   "metadata": {},
   "outputs": [],
   "source": [
    "DF_CONF_2024 = DF_CONF[DF_CONF[\"Year (added)\"] == 2024]"
   ]
  },
  {
   "cell_type": "code",
   "execution_count": 23,
   "id": "9fe016a5-f74e-4c1c-b082-270b9263fcb4",
   "metadata": {},
   "outputs": [],
   "source": [
    "DF_CONF_2025 = DF_CONF[DF_CONF[\"Year (added)\"] == 2025]"
   ]
  },
  {
   "cell_type": "code",
   "execution_count": 25,
   "id": "d95f549f-56d6-4620-bbbb-8436b617509f",
   "metadata": {},
   "outputs": [],
   "source": [
    "DF_CONF_2023 = DF_CONF[DF_CONF[\"Year (added)\"] == 2023]"
   ]
  },
  {
   "cell_type": "code",
   "execution_count": 21,
   "id": "ea432d78-bc1e-478f-96e9-9c1073f98633",
   "metadata": {},
   "outputs": [
    {
     "name": "stdout",
     "output_type": "stream",
     "text": [
      "<class 'pandas.core.frame.DataFrame'>\n",
      "Index: 812 entries, 0 to 1410\n",
      "Data columns (total 33 columns):\n",
      " #   Column                         Non-Null Count  Dtype  \n",
      "---  ------                         --------------  -----  \n",
      " 0   Certificate of Inspection      812 non-null    object \n",
      " 1   Inspection Number              812 non-null    object \n",
      " 2   Date of Occurance              812 non-null    object \n",
      " 3   Year (added)                   812 non-null    int64  \n",
      " 4   Business Unique ID             812 non-null    object \n",
      " 5   Business Name                  812 non-null    object \n",
      " 6   DBA Trade Name                 293 non-null    object \n",
      " 7   Business Category              812 non-null    object \n",
      " 8   Inspection type                812 non-null    object \n",
      " 9   Device Category                812 non-null    object \n",
      " 10  Device Class                   803 non-null    object \n",
      " 11  Device Type                    812 non-null    object \n",
      " 12  Devices Inspected              812 non-null    int64  \n",
      " 13  Devices Approved               812 non-null    int64  \n",
      " 14  Devices Condemned/Confiscated  812 non-null    int64  \n",
      " 15  Confiscated                    812 non-null    object \n",
      " 16  Address Type                   812 non-null    object \n",
      " 17  Building Number                809 non-null    object \n",
      " 18  Street Name                    812 non-null    object \n",
      " 19  Street Name 2                  3 non-null      object \n",
      " 20  Unit Type                      12 non-null     object \n",
      " 21  Unit                           6 non-null      object \n",
      " 22  City                           812 non-null    object \n",
      " 23  State                          812 non-null    object \n",
      " 24  Postcode                       812 non-null    int64  \n",
      " 25  Borough                        812 non-null    object \n",
      " 26  Community Board                809 non-null    float64\n",
      " 27  Council District               809 non-null    float64\n",
      " 28  BIN                            805 non-null    float64\n",
      " 29  BBL                            806 non-null    float64\n",
      " 30  NTA                            795 non-null    object \n",
      " 31  Latitude                       810 non-null    float64\n",
      " 32  Longitude                      810 non-null    float64\n",
      "dtypes: float64(6), int64(5), object(22)\n",
      "memory usage: 215.7+ KB\n"
     ]
    }
   ],
   "source": [
    "DF_CONF_2024.info()"
   ]
  },
  {
   "cell_type": "code",
   "execution_count": 22,
   "id": "24a8edbb-e5d8-4296-b80e-d8fbd2bc25af",
   "metadata": {},
   "outputs": [
    {
     "data": {
      "text/plain": [
       "Business Category\n",
       "Gas Station-Retail - 815             681\n",
       "Fuel Oil Dealer - 814                 47\n",
       "Supermarket - 819                     41\n",
       "Grocery-Retail - 808                  24\n",
       "Retail Laundry                        11\n",
       "Gasoline Truck-Retail - 822            4\n",
       "Wholesale Food Market - 718            2\n",
       "Secondhand Dealer [General] - 006      1\n",
       "Airline                                1\n",
       "Name: count, dtype: int64"
      ]
     },
     "execution_count": 22,
     "metadata": {},
     "output_type": "execute_result"
    }
   ],
   "source": [
    "DF_CONF_2024[\"Business Category\"].value_counts()"
   ]
  },
  {
   "cell_type": "code",
   "execution_count": 24,
   "id": "01462f10-d8d0-4c29-8df7-ef0ae4af8c2e",
   "metadata": {},
   "outputs": [
    {
     "data": {
      "text/plain": [
       "Business Category\n",
       "Gas Station-Retail - 815       186\n",
       "Fuel Oil Dealer - 814           14\n",
       "Grocery-Retail - 808            13\n",
       "Supermarket - 819               11\n",
       "Gasoline Truck-Retail - 822      2\n",
       "Name: count, dtype: int64"
      ]
     },
     "execution_count": 24,
     "metadata": {},
     "output_type": "execute_result"
    }
   ],
   "source": [
    "DF_CONF_2025[\"Business Category\"].value_counts()"
   ]
  },
  {
   "cell_type": "code",
   "execution_count": 26,
   "id": "da7a929a-98e3-439d-b19d-75b85be12288",
   "metadata": {},
   "outputs": [
    {
     "data": {
      "text/plain": [
       "Business Category\n",
       "Gas Station-Retail - 815       311\n",
       "Fuel Oil Dealer - 814           49\n",
       "Supermarket - 819               15\n",
       "Grocery-Retail - 808             4\n",
       "Gasoline Truck-Retail - 822      1\n",
       "Retail Laundry                   1\n",
       "Name: count, dtype: int64"
      ]
     },
     "execution_count": 26,
     "metadata": {},
     "output_type": "execute_result"
    }
   ],
   "source": [
    "DF_CONF_2023[\"Business Category\"].value_counts()"
   ]
  },
  {
   "cell_type": "code",
   "execution_count": 27,
   "id": "e943f9ef-b23e-41b1-bf92-1149c96f61ad",
   "metadata": {},
   "outputs": [
    {
     "name": "stdout",
     "output_type": "stream",
     "text": [
      "<class 'pandas.core.frame.DataFrame'>\n",
      "Index: 381 entries, 40 to 1411\n",
      "Data columns (total 33 columns):\n",
      " #   Column                         Non-Null Count  Dtype  \n",
      "---  ------                         --------------  -----  \n",
      " 0   Certificate of Inspection      381 non-null    object \n",
      " 1   Inspection Number              381 non-null    object \n",
      " 2   Date of Occurance              381 non-null    object \n",
      " 3   Year (added)                   381 non-null    int64  \n",
      " 4   Business Unique ID             381 non-null    object \n",
      " 5   Business Name                  381 non-null    object \n",
      " 6   DBA Trade Name                 154 non-null    object \n",
      " 7   Business Category              381 non-null    object \n",
      " 8   Inspection type                381 non-null    object \n",
      " 9   Device Category                381 non-null    object \n",
      " 10  Device Class                   375 non-null    object \n",
      " 11  Device Type                    381 non-null    object \n",
      " 12  Devices Inspected              381 non-null    int64  \n",
      " 13  Devices Approved               381 non-null    int64  \n",
      " 14  Devices Condemned/Confiscated  381 non-null    int64  \n",
      " 15  Confiscated                    381 non-null    object \n",
      " 16  Address Type                   381 non-null    object \n",
      " 17  Building Number                381 non-null    object \n",
      " 18  Street Name                    381 non-null    object \n",
      " 19  Street Name 2                  0 non-null      object \n",
      " 20  Unit Type                      3 non-null      object \n",
      " 21  Unit                           2 non-null      object \n",
      " 22  City                           381 non-null    object \n",
      " 23  State                          381 non-null    object \n",
      " 24  Postcode                       381 non-null    int64  \n",
      " 25  Borough                        381 non-null    object \n",
      " 26  Community Board                378 non-null    float64\n",
      " 27  Council District               378 non-null    float64\n",
      " 28  BIN                            375 non-null    float64\n",
      " 29  BBL                            377 non-null    float64\n",
      " 30  NTA                            376 non-null    object \n",
      " 31  Latitude                       378 non-null    float64\n",
      " 32  Longitude                      378 non-null    float64\n",
      "dtypes: float64(6), int64(5), object(22)\n",
      "memory usage: 101.2+ KB\n"
     ]
    }
   ],
   "source": [
    "DF_CONF_2023.info()"
   ]
  },
  {
   "cell_type": "code",
   "execution_count": 28,
   "id": "3914bee7-be90-45c8-a233-3bbe81a06ebc",
   "metadata": {},
   "outputs": [
    {
     "name": "stdout",
     "output_type": "stream",
     "text": [
      "<class 'pandas.core.frame.DataFrame'>\n",
      "RangeIndex: 43594 entries, 0 to 43593\n",
      "Data columns (total 33 columns):\n",
      " #   Column                     Non-Null Count  Dtype  \n",
      "---  ------                     --------------  -----  \n",
      " 0   Record ID                  43594 non-null  object \n",
      " 1   Intake Date                43594 non-null  object \n",
      " 2   Intake Channel             43594 non-null  object \n",
      " 3   311 SR Number              31985 non-null  object \n",
      " 4   Business Category          42226 non-null  object \n",
      " 5   Complaint Code             36290 non-null  object \n",
      " 6   Business Unique ID         41844 non-null  object \n",
      " 7   Business Name              41495 non-null  object \n",
      " 8   Result Date                43594 non-null  object \n",
      " 9   Result                     43594 non-null  object \n",
      " 10  Referred To                17325 non-null  object \n",
      " 11  Contract Cancelled Amount  33 non-null     float64\n",
      " 12  Refund Amount              888 non-null    float64\n",
      " 13  Address Type               40258 non-null  object \n",
      " 14  Building Nbr               35877 non-null  object \n",
      " 15  Street1                    40234 non-null  object \n",
      " 16  Street2                    1946 non-null   object \n",
      " 17  Street3                    76 non-null     object \n",
      " 18  Unit Type                  1976 non-null   object \n",
      " 19  Apt/Suite                  3287 non-null   object \n",
      " 20  City                       38997 non-null  object \n",
      " 21  State                      40215 non-null  object \n",
      " 22  Postcode                   40199 non-null  object \n",
      " 23  Borough                    37100 non-null  object \n",
      " 24  Community Board            36413 non-null  float64\n",
      " 25  Council District           36413 non-null  float64\n",
      " 26  BIN                        33569 non-null  float64\n",
      " 27  BBL                        33569 non-null  float64\n",
      " 28  NTA                        34641 non-null  object \n",
      " 29  Census Block (2010)        34641 non-null  float64\n",
      " 30  Census Tract (2010)        36412 non-null  float64\n",
      " 31  Latitude                   36642 non-null  float64\n",
      " 32  Longitude                  36642 non-null  float64\n",
      "dtypes: float64(10), object(23)\n",
      "memory usage: 11.0+ MB\n"
     ]
    }
   ],
   "source": [
    "DF_CONS_COMPLAINTS.info()"
   ]
  },
  {
   "cell_type": "code",
   "execution_count": 29,
   "id": "e7c7a802-2016-4d2f-b05f-f062b8382f9d",
   "metadata": {},
   "outputs": [
    {
     "data": {
      "text/plain": [
       "Business Category\n",
       "Other                            5613\n",
       "Misc Non-Food Retail             3897\n",
       "Tow Truck Company                2706\n",
       "Home Improvement Contractor      2226\n",
       "Restaurant                       2199\n",
       "                                 ... \n",
       "Amusement Device Portable           1\n",
       "Motion Picture Operator - 123       1\n",
       "Cabaret                             1\n",
       "Gaming Cafe                         1\n",
       "DCA                                 1\n",
       "Name: count, Length: 109, dtype: int64"
      ]
     },
     "execution_count": 29,
     "metadata": {},
     "output_type": "execute_result"
    }
   ],
   "source": [
    "DF_CONS_COMPLAINTS[\"Business Category\"].value_counts()"
   ]
  },
  {
   "cell_type": "code",
   "execution_count": 32,
   "id": "55fd564c-6a4f-4027-86da-11d4975586a8",
   "metadata": {},
   "outputs": [
    {
     "data": {
      "text/plain": [
       "0.13292758016388007"
      ]
     },
     "execution_count": 32,
     "metadata": {},
     "output_type": "execute_result"
    }
   ],
   "source": [
    "5613/42226"
   ]
  },
  {
   "cell_type": "code",
   "execution_count": 33,
   "id": "2424499a-c0e4-4829-8bf7-9a0212917993",
   "metadata": {},
   "outputs": [
    {
     "data": {
      "text/plain": [
       "0.09228911097428125"
      ]
     },
     "execution_count": 33,
     "metadata": {},
     "output_type": "execute_result"
    }
   ],
   "source": [
    "3897/42226"
   ]
  },
  {
   "cell_type": "code",
   "execution_count": 35,
   "id": "e994178c-baa0-4fb9-925d-61ab57ccde05",
   "metadata": {},
   "outputs": [
    {
     "data": {
      "text/plain": [
       "count      888.000000\n",
       "mean      1885.130631\n",
       "std       3882.483731\n",
       "min          0.000000\n",
       "25%         91.500000\n",
       "50%        252.000000\n",
       "75%       1411.250000\n",
       "max      56603.000000\n",
       "Name: Refund Amount, dtype: float64"
      ]
     },
     "execution_count": 35,
     "metadata": {},
     "output_type": "execute_result"
    }
   ],
   "source": [
    "## average complaint refund amounts\n",
    "DF_CONS_COMPLAINTS[\"Refund Amount\"].describe()"
   ]
  },
  {
   "cell_type": "code",
   "execution_count": 36,
   "id": "03cb575a-b872-4640-9ba3-76fe907ee35c",
   "metadata": {},
   "outputs": [
    {
     "data": {
      "text/plain": [
       "Borough\n",
       "Manhattan        10841\n",
       "Brooklyn         10691\n",
       "Queens            8671\n",
       "Bronx             5463\n",
       "Staten Island     1088\n",
       "Outside NYC        346\n",
       "Name: count, dtype: int64"
      ]
     },
     "execution_count": 36,
     "metadata": {},
     "output_type": "execute_result"
    }
   ],
   "source": [
    "DF_CONS_COMPLAINTS[\"Borough\"].value_counts()"
   ]
  },
  {
   "cell_type": "code",
   "execution_count": 37,
   "id": "0e164731-9f0c-4a22-9995-79f30b1f15c5",
   "metadata": {},
   "outputs": [
    {
     "data": {
      "text/plain": [
       "0.2922102425876011"
      ]
     },
     "execution_count": 37,
     "metadata": {},
     "output_type": "execute_result"
    }
   ],
   "source": [
    "10841/37100"
   ]
  },
  {
   "cell_type": "code",
   "execution_count": 38,
   "id": "27bba2de-bab8-478b-8070-2e9c5f9519c5",
   "metadata": {},
   "outputs": [
    {
     "data": {
      "text/plain": [
       "Postcode\n",
       "11201     947\n",
       "11235     774\n",
       "10036     693\n",
       "10019     666\n",
       "10001     624\n",
       "         ... \n",
       "33394       1\n",
       "14204       1\n",
       "14505       1\n",
       "610000      1\n",
       "10962       1\n",
       "Name: count, Length: 1191, dtype: int64"
      ]
     },
     "execution_count": 38,
     "metadata": {},
     "output_type": "execute_result"
    }
   ],
   "source": [
    "DF_CONS_COMPLAINTS[\"Postcode\"].value_counts()"
   ]
  },
  {
   "cell_type": "code",
   "execution_count": 39,
   "id": "cfd8873d-a803-49eb-9649-79c6fc4eb8d4",
   "metadata": {},
   "outputs": [
    {
     "data": {
      "text/plain": [
       "0.02355779994527227"
      ]
     },
     "execution_count": 39,
     "metadata": {},
     "output_type": "execute_result"
    }
   ],
   "source": [
    "947/40199"
   ]
  },
  {
   "cell_type": "code",
   "execution_count": 40,
   "id": "41965031-14e9-4450-9035-31d1352b7c2f",
   "metadata": {},
   "outputs": [
    {
     "data": {
      "text/plain": [
       "0.0192542103037389"
      ]
     },
     "execution_count": 40,
     "metadata": {},
     "output_type": "execute_result"
    }
   ],
   "source": [
    "774/40199"
   ]
  },
  {
   "cell_type": "code",
   "execution_count": 41,
   "id": "7c423ffd-7c32-4420-bf14-43654ef87dd8",
   "metadata": {},
   "outputs": [
    {
     "data": {
      "text/plain": [
       "Complaint Code\n",
       "Advertising/Misleading - A02                                                                          4275\n",
       "Unlicensed                                                                                            3697\n",
       "Overcharge                                                                                            3450\n",
       "Non-Delivery of Goods - N01                                                                           2965\n",
       "Exchange/Refund/Return                                                                                2737\n",
       "                                                                                                      ... \n",
       "Overcharge; Price Not Posted; Required Signage Not Posted                                                1\n",
       "Unlicensed; Tobacco Sales                                                                                1\n",
       "Receipt Incomplete/Inaccurate/Not Given; Tip Required                                                    1\n",
       "Cashless Business; Sold to Minor                                                                         1\n",
       "Price Not Posted; Required Signage Not Posted; Unlicensed; License or Complaint Sign Not Displayed       1\n",
       "Name: count, Length: 886, dtype: int64"
      ]
     },
     "execution_count": 41,
     "metadata": {},
     "output_type": "execute_result"
    }
   ],
   "source": [
    "DF_CONS_COMPLAINTS[\"Complaint Code\"].value_counts()"
   ]
  },
  {
   "cell_type": "code",
   "execution_count": 42,
   "id": "26dcacd6-f35d-4a89-8f49-5771bf127540",
   "metadata": {},
   "outputs": [
    {
     "data": {
      "text/plain": [
       "0.11780104712041885"
      ]
     },
     "execution_count": 42,
     "metadata": {},
     "output_type": "execute_result"
    }
   ],
   "source": [
    " 4275/36290"
   ]
  },
  {
   "cell_type": "code",
   "execution_count": 43,
   "id": "fe04ca8d-cf98-4a9a-9e83-67722c90af0a",
   "metadata": {},
   "outputs": [
    {
     "data": {
      "text/plain": [
       "0.10187379443372829"
      ]
     },
     "execution_count": 43,
     "metadata": {},
     "output_type": "execute_result"
    }
   ],
   "source": [
    " 3697/36290"
   ]
  },
  {
   "cell_type": "code",
   "execution_count": 44,
   "id": "1043f5ad-7c44-45e6-91a7-61d1719d9831",
   "metadata": {},
   "outputs": [
    {
     "data": {
      "text/plain": [
       "0.0950675117112152"
      ]
     },
     "execution_count": 44,
     "metadata": {},
     "output_type": "execute_result"
    }
   ],
   "source": [
    "3450/36290"
   ]
  },
  {
   "cell_type": "code",
   "execution_count": 45,
   "id": "a4ee4346-0d5b-4aa8-bca2-f62f387a6224",
   "metadata": {},
   "outputs": [
    {
     "name": "stdout",
     "output_type": "stream",
     "text": [
      "<class 'pandas.core.frame.DataFrame'>\n",
      "RangeIndex: 80712 entries, 0 to 80711\n",
      "Data columns (total 18 columns):\n",
      " #   Column                     Non-Null Count  Dtype  \n",
      "---  ------                     --------------  -----  \n",
      " 0   Record ID                  80712 non-null  object \n",
      " 1   Related Record Type        80712 non-null  object \n",
      " 2   Business Unique ID         80712 non-null  object \n",
      " 3   Business Name              80712 non-null  object \n",
      " 4   DBA/Trade Name             7057 non-null   object \n",
      " 5   Business Category          80708 non-null  object \n",
      " 6   Certificate of Inspection  79688 non-null  object \n",
      " 7   Inspection Number          79700 non-null  object \n",
      " 8   NOH Number                 80712 non-null  object \n",
      " 9   Violation Date             80712 non-null  object \n",
      " 10  Charge                     80712 non-null  object \n",
      " 11  Charge Count               80708 non-null  float64\n",
      " 12  Cure Eligible              71630 non-null  object \n",
      " 13  Cured                      8366 non-null   object \n",
      " 14  Outcome                    63393 non-null  object \n",
      " 15  Guilty                     58154 non-null  float64\n",
      " 16  Not Guilty                 8836 non-null   float64\n",
      " 17  Dismissed                  852 non-null    float64\n",
      "dtypes: float64(4), object(14)\n",
      "memory usage: 11.1+ MB\n"
     ]
    }
   ],
   "source": [
    "DF_CHARGES.info()"
   ]
  },
  {
   "cell_type": "code",
   "execution_count": 49,
   "id": "dfcb2f98-2d7c-41f2-9b53-b120986f26c4",
   "metadata": {},
   "outputs": [
    {
     "data": {
      "text/plain": [
       "0.7205124392903162"
      ]
     },
     "execution_count": 49,
     "metadata": {},
     "output_type": "execute_result"
    }
   ],
   "source": [
    "## 72% of charges were found guilty\n",
    "58154/80712"
   ]
  },
  {
   "cell_type": "code",
   "execution_count": 56,
   "id": "da5f0e94-b4a2-4572-b439-174a8c28b188",
   "metadata": {},
   "outputs": [
    {
     "data": {
      "text/plain": [
       "Violation Date\n",
       "05/15/2024    436\n",
       "08/01/2024    368\n",
       "05/09/2024    363\n",
       "07/16/2024    331\n",
       "02/28/2024    326\n",
       "             ... \n",
       "07/21/2024      4\n",
       "02/04/2024      2\n",
       "01/08/2024      2\n",
       "07/23/2023      1\n",
       "06/09/2024      1\n",
       "Name: count, Length: 498, dtype: int64"
      ]
     },
     "execution_count": 56,
     "metadata": {},
     "output_type": "execute_result"
    }
   ],
   "source": [
    "DF_CHARGES[\"Violation Date\"].value_counts()"
   ]
  },
  {
   "cell_type": "code",
   "execution_count": 47,
   "id": "ac35d58e-720c-4802-9b50-176277e93541",
   "metadata": {},
   "outputs": [
    {
     "data": {
      "text/plain": [
       "count          80712\n",
       "unique           498\n",
       "top       05/15/2024\n",
       "freq             436\n",
       "Name: Violation Date, dtype: object"
      ]
     },
     "execution_count": 47,
     "metadata": {},
     "output_type": "execute_result"
    }
   ],
   "source": [
    "DF_CHARGES[\"Violation Date\"].describe()"
   ]
  },
  {
   "cell_type": "code",
   "execution_count": 51,
   "id": "c0be345b-d5d0-4e16-898c-845f5e2fafd5",
   "metadata": {},
   "outputs": [
    {
     "data": {
      "text/plain": [
       "Charge\n",
       "NYC Admin Code § 20-202(a)(1) - BUSINESS ENGAGES IN UNLICENSED TOBACCO RETAIL DEALER ACTIVITY                                                                                                                                                        7944\n",
       "NYC Admin Code § 20-561(a)(1) - BUSINESS ENGAGES IN UNLICENSED ELECTRONIC CIGARETTE RETAIL DEALER ACTIVITY                                                                                                                                           7016\n",
       "NYC Admin Code § 17-715(b) - SOLD, OFFERED FOR SALE, OR POSSESSED WITH INTENT TO SELL OR OFFER FOR SALE FLAVORED ELECTRONIC CIGARETTE OR E-LIQUID                                                                                                    6139\n",
       "NYC Admin Code § 17-715(a) - SOLD, OFFERED FOR SALE, OR POSSESSED WITH INTENT TO SELL FLAVORED TOBACCO PRODUCT                                                                                                                                       5934\n",
       "NY Pub Health § 1399-MM1(2) - Selling or offering for sale a flavored vapor product intended or reasonably expected to be used for the consumption of nicotine.                                                                                      5719\n",
       "                                                                                                                                                                                                                                                     ... \n",
       "6 RCNY § 1-17 - licensee or employee bought, used, or carried a badge suggesting the person was a government official                                                                                                                                   1\n",
       "NYC Admin Code § 20-268.1(a)(1) - BUSINESS REQUIRES CONSUMER TO ACCEPT FINANCING OR ASSISTANCE IN OBTAINING FINANCING AS A CONDITION OF PURCHASE, AND/OR INCREASES PRICE OF AUTOMOBILE BECAUSE CONSUMER SECURED FINANCING FROM THIRD-PARTY LENDER       1\n",
       "6 RCNY § 2-372(q) - IMPROPER RELEASE CAR/ROTOW                                                                                                                                                                                                          1\n",
       "6 RCNY §2-378(a)(2)(ii) - Tow company failed to maintain in an electronic folder an electronic copy of the receipt for the towing services.                                                                                                             1\n",
       "NYC Admin Code § 20-701(a) - DECEPTIVE PRATICE                                                                                                                                                                                                          1\n",
       "Name: count, Length: 547, dtype: int64"
      ]
     },
     "execution_count": 51,
     "metadata": {},
     "output_type": "execute_result"
    }
   ],
   "source": [
    "DF_CHARGES[\"Charge\"].value_counts()"
   ]
  },
  {
   "cell_type": "code",
   "execution_count": 52,
   "id": "4f1d43b0-3f05-4055-864e-443ab0554954",
   "metadata": {},
   "outputs": [
    {
     "data": {
      "text/plain": [
       "0.0984240261671127"
      ]
     },
     "execution_count": 52,
     "metadata": {},
     "output_type": "execute_result"
    }
   ],
   "source": [
    "## 10% of charges were unlicensed tobacco activity\n",
    "7944/80712"
   ]
  },
  {
   "cell_type": "code",
   "execution_count": 54,
   "id": "622d44f9-8bdd-4341-afc3-649b01b39178",
   "metadata": {},
   "outputs": [
    {
     "data": {
      "text/plain": [
       "0.08692635543661413"
      ]
     },
     "execution_count": 54,
     "metadata": {},
     "output_type": "execute_result"
    }
   ],
   "source": [
    "## 9% of charges were unlicensed e cig activity\n",
    "7016/80712"
   ]
  },
  {
   "cell_type": "code",
   "execution_count": 55,
   "id": "89d75449-c486-49be-8a49-8a43e9e7bb50",
   "metadata": {},
   "outputs": [
    {
     "data": {
      "text/plain": [
       "0.008164832986420855"
      ]
     },
     "execution_count": 55,
     "metadata": {},
     "output_type": "execute_result"
    }
   ],
   "source": [
    "## percent of charges related to labels/weight\n",
    "659/80712"
   ]
  },
  {
   "cell_type": "code",
   "execution_count": 57,
   "id": "ed9c74d1-df3b-4dda-9440-873513f52bdd",
   "metadata": {},
   "outputs": [
    {
     "data": {
      "text/plain": [
       "Charge Count\n",
       "1.0      62141\n",
       "20.0      7549\n",
       "2.0       4947\n",
       "3.0        680\n",
       "4.0        593\n",
       "         ...  \n",
       "288.0        1\n",
       "47.0         1\n",
       "318.0        1\n",
       "958.0        1\n",
       "514.0        1\n",
       "Name: count, Length: 174, dtype: int64"
      ]
     },
     "execution_count": 57,
     "metadata": {},
     "output_type": "execute_result"
    }
   ],
   "source": [
    "DF_CHARGES[\"Charge Count\"].value_counts()"
   ]
  },
  {
   "cell_type": "code",
   "execution_count": 60,
   "id": "4ee7ba2e-7f9a-43e1-b801-9230776721a2",
   "metadata": {},
   "outputs": [
    {
     "data": {
      "text/html": [
       "<div>\n",
       "<style scoped>\n",
       "    .dataframe tbody tr th:only-of-type {\n",
       "        vertical-align: middle;\n",
       "    }\n",
       "\n",
       "    .dataframe tbody tr th {\n",
       "        vertical-align: top;\n",
       "    }\n",
       "\n",
       "    .dataframe thead th {\n",
       "        text-align: right;\n",
       "    }\n",
       "</style>\n",
       "<table border=\"1\" class=\"dataframe\">\n",
       "  <thead>\n",
       "    <tr style=\"text-align: right;\">\n",
       "      <th></th>\n",
       "      <th>Record ID</th>\n",
       "      <th>Related Record Type</th>\n",
       "      <th>Business Unique ID</th>\n",
       "      <th>Business Name</th>\n",
       "      <th>DBA/Trade Name</th>\n",
       "      <th>Business Category</th>\n",
       "      <th>Certificate of Inspection</th>\n",
       "      <th>Inspection Number</th>\n",
       "      <th>NOH Number</th>\n",
       "      <th>Violation Date</th>\n",
       "      <th>Charge</th>\n",
       "      <th>Charge Count</th>\n",
       "      <th>Cure Eligible</th>\n",
       "      <th>Cured</th>\n",
       "      <th>Outcome</th>\n",
       "      <th>Guilty</th>\n",
       "      <th>Not Guilty</th>\n",
       "      <th>Dismissed</th>\n",
       "    </tr>\n",
       "  </thead>\n",
       "  <tbody>\n",
       "    <tr>\n",
       "      <th>0</th>\n",
       "      <td>11625-2023-ADJC</td>\n",
       "      <td>dcwp_InspectionRequest</td>\n",
       "      <td>BA-1329226-2022</td>\n",
       "      <td>HSYW INC.</td>\n",
       "      <td>7 ELEVEN STORE #32120B</td>\n",
       "      <td>Grocery-Retail</td>\n",
       "      <td>A0136715</td>\n",
       "      <td>INS-000678209</td>\n",
       "      <td>23Q02642</td>\n",
       "      <td>09/25/2023</td>\n",
       "      <td>NYC Admin Code § 20-910(f) - BUSINESS FAILS TO...</td>\n",
       "      <td>1.0</td>\n",
       "      <td>NaN</td>\n",
       "      <td>NaN</td>\n",
       "      <td>Pleaded</td>\n",
       "      <td>1.0</td>\n",
       "      <td>NaN</td>\n",
       "      <td>NaN</td>\n",
       "    </tr>\n",
       "    <tr>\n",
       "      <th>50484</th>\n",
       "      <td>29359-2024-ADJC</td>\n",
       "      <td>dcwp_InspectionRequest</td>\n",
       "      <td>BA-1584310-2023</td>\n",
       "      <td>DR ZAZITO CONVENIENCE CORPORATION</td>\n",
       "      <td>NaN</td>\n",
       "      <td>Electronic Cigarette Dealer</td>\n",
       "      <td>A0186961</td>\n",
       "      <td>INS-000780808</td>\n",
       "      <td>24T04167</td>\n",
       "      <td>09/09/2024</td>\n",
       "      <td>NY Pub Health § 1399-MM1(2) - Selling or offer...</td>\n",
       "      <td>1.0</td>\n",
       "      <td>No</td>\n",
       "      <td>NaN</td>\n",
       "      <td>Default Decision</td>\n",
       "      <td>0.0</td>\n",
       "      <td>1.0</td>\n",
       "      <td>NaN</td>\n",
       "    </tr>\n",
       "    <tr>\n",
       "      <th>50485</th>\n",
       "      <td>29359-2024-ADJC</td>\n",
       "      <td>dcwp_InspectionRequest</td>\n",
       "      <td>BA-1584310-2023</td>\n",
       "      <td>DR ZAZITO CONVENIENCE CORPORATION</td>\n",
       "      <td>NaN</td>\n",
       "      <td>Electronic Cigarette Dealer</td>\n",
       "      <td>A0186961</td>\n",
       "      <td>INS-000780808</td>\n",
       "      <td>24T04167</td>\n",
       "      <td>09/09/2024</td>\n",
       "      <td>NYC Admin Code § 17-706(a-1) - SOLD E-CIGARETT...</td>\n",
       "      <td>1.0</td>\n",
       "      <td>No</td>\n",
       "      <td>NaN</td>\n",
       "      <td>Default Decision</td>\n",
       "      <td>1.0</td>\n",
       "      <td>NaN</td>\n",
       "      <td>NaN</td>\n",
       "    </tr>\n",
       "    <tr>\n",
       "      <th>50486</th>\n",
       "      <td>29359-2024-ADJC</td>\n",
       "      <td>dcwp_InspectionRequest</td>\n",
       "      <td>BA-1584310-2023</td>\n",
       "      <td>DR ZAZITO CONVENIENCE CORPORATION</td>\n",
       "      <td>NaN</td>\n",
       "      <td>Electronic Cigarette Dealer</td>\n",
       "      <td>A0186961</td>\n",
       "      <td>INS-000780808</td>\n",
       "      <td>24T04167</td>\n",
       "      <td>09/09/2024</td>\n",
       "      <td>NYC Admin Code § 17-715(b) - SOLD, OFFERED FOR...</td>\n",
       "      <td>1.0</td>\n",
       "      <td>No</td>\n",
       "      <td>NaN</td>\n",
       "      <td>Default Decision</td>\n",
       "      <td>1.0</td>\n",
       "      <td>NaN</td>\n",
       "      <td>NaN</td>\n",
       "    </tr>\n",
       "    <tr>\n",
       "      <th>50487</th>\n",
       "      <td>29359-2024-ADJC</td>\n",
       "      <td>dcwp_InspectionRequest</td>\n",
       "      <td>BA-1584310-2023</td>\n",
       "      <td>DR ZAZITO CONVENIENCE CORPORATION</td>\n",
       "      <td>NaN</td>\n",
       "      <td>Electronic Cigarette Dealer</td>\n",
       "      <td>A0186961</td>\n",
       "      <td>INS-000780808</td>\n",
       "      <td>24T04167</td>\n",
       "      <td>09/09/2024</td>\n",
       "      <td>NYC Admin Code § 20-561(a)(1) - BUSINESS ENGAG...</td>\n",
       "      <td>1.0</td>\n",
       "      <td>No</td>\n",
       "      <td>NaN</td>\n",
       "      <td>Default Decision</td>\n",
       "      <td>1.0</td>\n",
       "      <td>NaN</td>\n",
       "      <td>NaN</td>\n",
       "    </tr>\n",
       "    <tr>\n",
       "      <th>50488</th>\n",
       "      <td>29360-2024-ADJC</td>\n",
       "      <td>dcwp_InspectionRequest</td>\n",
       "      <td>BA-1708227-2024</td>\n",
       "      <td>HAPPY CORK BEDSTUY CORPORATION</td>\n",
       "      <td>NaN</td>\n",
       "      <td>Electronic Cigarette Dealer</td>\n",
       "      <td>A0186700</td>\n",
       "      <td>INS-000780230</td>\n",
       "      <td>24N02855</td>\n",
       "      <td>09/05/2024</td>\n",
       "      <td>NYC Admin Code § 17-706(c) - FAILED TO POST AG...</td>\n",
       "      <td>1.0</td>\n",
       "      <td>No</td>\n",
       "      <td>NaN</td>\n",
       "      <td>Pleaded</td>\n",
       "      <td>1.0</td>\n",
       "      <td>NaN</td>\n",
       "      <td>NaN</td>\n",
       "    </tr>\n",
       "    <tr>\n",
       "      <th>50490</th>\n",
       "      <td>29360-2024-ADJC</td>\n",
       "      <td>dcwp_InspectionRequest</td>\n",
       "      <td>BA-1708227-2024</td>\n",
       "      <td>HAPPY CORK BEDSTUY CORPORATION</td>\n",
       "      <td>NaN</td>\n",
       "      <td>Electronic Cigarette Dealer</td>\n",
       "      <td>A0186700</td>\n",
       "      <td>INS-000780230</td>\n",
       "      <td>24N02855</td>\n",
       "      <td>09/05/2024</td>\n",
       "      <td>NYC Admin Code § 20-561(a)(1) - BUSINESS ENGAG...</td>\n",
       "      <td>1.0</td>\n",
       "      <td>No</td>\n",
       "      <td>NaN</td>\n",
       "      <td>Pleaded</td>\n",
       "      <td>1.0</td>\n",
       "      <td>NaN</td>\n",
       "      <td>NaN</td>\n",
       "    </tr>\n",
       "    <tr>\n",
       "      <th>50491</th>\n",
       "      <td>29361-2024-ADJC</td>\n",
       "      <td>dcwp_InspectionRequest</td>\n",
       "      <td>BA-1555987-2022</td>\n",
       "      <td>SAJAN INC</td>\n",
       "      <td>477 NEWS &amp; TOBACCO</td>\n",
       "      <td>Electronic Cigarette Dealer</td>\n",
       "      <td>A0186954</td>\n",
       "      <td>INS-000780783</td>\n",
       "      <td>24T04166</td>\n",
       "      <td>09/09/2024</td>\n",
       "      <td>NYC Admin Code § 20-561(a)(1) - BUSINESS ENGAG...</td>\n",
       "      <td>1.0</td>\n",
       "      <td>No</td>\n",
       "      <td>NaN</td>\n",
       "      <td>Default Decision</td>\n",
       "      <td>1.0</td>\n",
       "      <td>NaN</td>\n",
       "      <td>NaN</td>\n",
       "    </tr>\n",
       "    <tr>\n",
       "      <th>50492</th>\n",
       "      <td>29362-2024-ADJC</td>\n",
       "      <td>dcwp_InspectionRequest</td>\n",
       "      <td>BA-1628331-2023</td>\n",
       "      <td>3RD AVE VAP INC</td>\n",
       "      <td>NaN</td>\n",
       "      <td>Tobacco Retail Dealer</td>\n",
       "      <td>A0182477</td>\n",
       "      <td>INS-000771631</td>\n",
       "      <td>24M02663</td>\n",
       "      <td>08/09/2024</td>\n",
       "      <td>NYC Admin Code § 17-715(a) - SOLD, OFFERED FOR...</td>\n",
       "      <td>1.0</td>\n",
       "      <td>No</td>\n",
       "      <td>NaN</td>\n",
       "      <td>NaN</td>\n",
       "      <td>NaN</td>\n",
       "      <td>NaN</td>\n",
       "      <td>NaN</td>\n",
       "    </tr>\n",
       "    <tr>\n",
       "      <th>50493</th>\n",
       "      <td>29362-2024-ADJC</td>\n",
       "      <td>dcwp_InspectionRequest</td>\n",
       "      <td>BA-1628331-2023</td>\n",
       "      <td>3RD AVE VAP INC</td>\n",
       "      <td>NaN</td>\n",
       "      <td>Tobacco Retail Dealer</td>\n",
       "      <td>A0182477</td>\n",
       "      <td>INS-000771631</td>\n",
       "      <td>24M02663</td>\n",
       "      <td>08/09/2024</td>\n",
       "      <td>NYC Admin Code § 20-202(a)(1) - BUSINESS ENGAG...</td>\n",
       "      <td>1.0</td>\n",
       "      <td>No</td>\n",
       "      <td>NaN</td>\n",
       "      <td>NaN</td>\n",
       "      <td>NaN</td>\n",
       "      <td>NaN</td>\n",
       "      <td>NaN</td>\n",
       "    </tr>\n",
       "    <tr>\n",
       "      <th>50495</th>\n",
       "      <td>29365-2024-ADJC</td>\n",
       "      <td>dcwp_InspectionRequest</td>\n",
       "      <td>BA-1356582-2022</td>\n",
       "      <td>MIMI C BEAUTY CORPORATION</td>\n",
       "      <td>BON BEAUTY OUTLET</td>\n",
       "      <td>Misc Non-Food Retail</td>\n",
       "      <td>A0187133</td>\n",
       "      <td>INS-000781156</td>\n",
       "      <td>24M03160</td>\n",
       "      <td>09/10/2024</td>\n",
       "      <td>6 RCNY § 5-37 - REFUND POLICY IS NOT POSTED  A...</td>\n",
       "      <td>1.0</td>\n",
       "      <td>Yes</td>\n",
       "      <td>Yes</td>\n",
       "      <td>Pleaded</td>\n",
       "      <td>1.0</td>\n",
       "      <td>NaN</td>\n",
       "      <td>NaN</td>\n",
       "    </tr>\n",
       "    <tr>\n",
       "      <th>50496</th>\n",
       "      <td>29366-2024-ADJC</td>\n",
       "      <td>dcwp_InspectionRequest</td>\n",
       "      <td>BA-1661056-2023</td>\n",
       "      <td>MANHATTAN PARKING - GOLD CORP.</td>\n",
       "      <td>NaN</td>\n",
       "      <td>Garage</td>\n",
       "      <td>A0187097</td>\n",
       "      <td>INS-000781094</td>\n",
       "      <td>24M03156</td>\n",
       "      <td>09/10/2024</td>\n",
       "      <td>6 RCNY § 1-03(a) - DCA LICENSE/COMPLAINT SIGN ...</td>\n",
       "      <td>1.0</td>\n",
       "      <td>Yes</td>\n",
       "      <td>Yes</td>\n",
       "      <td>Pleaded</td>\n",
       "      <td>1.0</td>\n",
       "      <td>NaN</td>\n",
       "      <td>NaN</td>\n",
       "    </tr>\n",
       "    <tr>\n",
       "      <th>50497</th>\n",
       "      <td>29366-2024-ADJC</td>\n",
       "      <td>dcwp_InspectionRequest</td>\n",
       "      <td>BA-1661056-2023</td>\n",
       "      <td>MANHATTAN PARKING - GOLD CORP.</td>\n",
       "      <td>NaN</td>\n",
       "      <td>Garage</td>\n",
       "      <td>A0187097</td>\n",
       "      <td>INS-000781094</td>\n",
       "      <td>24M03156</td>\n",
       "      <td>09/10/2024</td>\n",
       "      <td>6 RCNY § 2-161(g)(2)(i) - IMPROPER RATE SIGN</td>\n",
       "      <td>1.0</td>\n",
       "      <td>Yes</td>\n",
       "      <td>Yes</td>\n",
       "      <td>Pleaded</td>\n",
       "      <td>1.0</td>\n",
       "      <td>NaN</td>\n",
       "      <td>NaN</td>\n",
       "    </tr>\n",
       "    <tr>\n",
       "      <th>50498</th>\n",
       "      <td>29366-2024-ADJC</td>\n",
       "      <td>dcwp_InspectionRequest</td>\n",
       "      <td>BA-1661056-2023</td>\n",
       "      <td>MANHATTAN PARKING - GOLD CORP.</td>\n",
       "      <td>NaN</td>\n",
       "      <td>Garage</td>\n",
       "      <td>A0187097</td>\n",
       "      <td>INS-000781094</td>\n",
       "      <td>24M03156</td>\n",
       "      <td>09/10/2024</td>\n",
       "      <td>6 RCNY § 2-161(h)(1) - PARKING LOT/GARAGE FAIL...</td>\n",
       "      <td>1.0</td>\n",
       "      <td>No</td>\n",
       "      <td>NaN</td>\n",
       "      <td>Pleaded</td>\n",
       "      <td>1.0</td>\n",
       "      <td>NaN</td>\n",
       "      <td>NaN</td>\n",
       "    </tr>\n",
       "    <tr>\n",
       "      <th>50500</th>\n",
       "      <td>29367-2024-ADJC</td>\n",
       "      <td>dcwp_InspectionRequest</td>\n",
       "      <td>BA-1707705-2024</td>\n",
       "      <td>TREMONT FOOD MARKET, INC.</td>\n",
       "      <td>NaN</td>\n",
       "      <td>Tobacco Retail Dealer</td>\n",
       "      <td>A0184106</td>\n",
       "      <td>INS-000781150</td>\n",
       "      <td>24T04188</td>\n",
       "      <td>08/21/2024</td>\n",
       "      <td>NYC Admin Code § 20-202(a)(1) - BUSINESS ENGAG...</td>\n",
       "      <td>1.0</td>\n",
       "      <td>No</td>\n",
       "      <td>NaN</td>\n",
       "      <td>Default Decision</td>\n",
       "      <td>1.0</td>\n",
       "      <td>NaN</td>\n",
       "      <td>NaN</td>\n",
       "    </tr>\n",
       "    <tr>\n",
       "      <th>50501</th>\n",
       "      <td>29368-2024-ADJC</td>\n",
       "      <td>dcwp_InspectionRequest</td>\n",
       "      <td>BA-1111508-2022</td>\n",
       "      <td>BAYSIDE FARM MARKET INC</td>\n",
       "      <td>COUNTRYBOY FARM MARKET</td>\n",
       "      <td>Stoop Line Stand</td>\n",
       "      <td>A0185858</td>\n",
       "      <td>INS-000775326</td>\n",
       "      <td>24Q02115</td>\n",
       "      <td>08/30/2024</td>\n",
       "      <td>NYC Admin Code § 20-233(a) -STOOP LINE STAND I...</td>\n",
       "      <td>1.0</td>\n",
       "      <td>No</td>\n",
       "      <td>NaN</td>\n",
       "      <td>Default Decision</td>\n",
       "      <td>1.0</td>\n",
       "      <td>NaN</td>\n",
       "      <td>NaN</td>\n",
       "    </tr>\n",
       "    <tr>\n",
       "      <th>50502</th>\n",
       "      <td>29369-2024-ADJC</td>\n",
       "      <td>dcwp_InspectionRequest</td>\n",
       "      <td>BA-1657730-2023</td>\n",
       "      <td>SCARLET 53 PARKING LLC</td>\n",
       "      <td>AKA Icon Parking LLC</td>\n",
       "      <td>Garage &amp; Parking Lot</td>\n",
       "      <td>A0187067</td>\n",
       "      <td>INS-000781053</td>\n",
       "      <td>24M03155</td>\n",
       "      <td>09/10/2024</td>\n",
       "      <td>6 RCNY § 2-161(g)(2)(i) - IMPROPER RATE SIGN</td>\n",
       "      <td>1.0</td>\n",
       "      <td>Yes</td>\n",
       "      <td>NaN</td>\n",
       "      <td>Pleaded</td>\n",
       "      <td>1.0</td>\n",
       "      <td>NaN</td>\n",
       "      <td>NaN</td>\n",
       "    </tr>\n",
       "    <tr>\n",
       "      <th>50503</th>\n",
       "      <td>29369-2024-ADJC</td>\n",
       "      <td>dcwp_InspectionRequest</td>\n",
       "      <td>BA-1657730-2023</td>\n",
       "      <td>SCARLET 53 PARKING LLC</td>\n",
       "      <td>AKA Icon Parking LLC</td>\n",
       "      <td>Garage &amp; Parking Lot</td>\n",
       "      <td>A0187067</td>\n",
       "      <td>INS-000781053</td>\n",
       "      <td>24M03155</td>\n",
       "      <td>09/10/2024</td>\n",
       "      <td>6 RCNY § 2-161(h)(1) - PARKING LOT/GARAGE FAIL...</td>\n",
       "      <td>1.0</td>\n",
       "      <td>No</td>\n",
       "      <td>NaN</td>\n",
       "      <td>Pleaded</td>\n",
       "      <td>1.0</td>\n",
       "      <td>NaN</td>\n",
       "      <td>NaN</td>\n",
       "    </tr>\n",
       "    <tr>\n",
       "      <th>50505</th>\n",
       "      <td>29370-2024-ADJC</td>\n",
       "      <td>dcwp_InspectionRequest</td>\n",
       "      <td>BA-1708604-2024</td>\n",
       "      <td>LAZ PARKING NY, NJ LLC</td>\n",
       "      <td>NaN</td>\n",
       "      <td>Garage &amp; Parking Lot</td>\n",
       "      <td>A0187128</td>\n",
       "      <td>INS-000781147</td>\n",
       "      <td>24M03159</td>\n",
       "      <td>09/10/2024</td>\n",
       "      <td>NYC Admin Code § 20-105 - Unlicensed parking l...</td>\n",
       "      <td>1.0</td>\n",
       "      <td>No</td>\n",
       "      <td>No</td>\n",
       "      <td>Hearing Decision</td>\n",
       "      <td>1.0</td>\n",
       "      <td>NaN</td>\n",
       "      <td>NaN</td>\n",
       "    </tr>\n",
       "    <tr>\n",
       "      <th>50506</th>\n",
       "      <td>29371-2024-ADJC</td>\n",
       "      <td>dcwp_InspectionRequest</td>\n",
       "      <td>BA-1674489-2023</td>\n",
       "      <td>ATLANTIC TIRE SHOP AT 111 STREET, LLC</td>\n",
       "      <td>NaN</td>\n",
       "      <td>Misc Non-Food Retail</td>\n",
       "      <td>A0187116</td>\n",
       "      <td>INS-000781126</td>\n",
       "      <td>24Q02228</td>\n",
       "      <td>09/10/2024</td>\n",
       "      <td>6 RCNY § 5-32(c) -  RECEIPT DOES NOT INCLUDE R...</td>\n",
       "      <td>1.0</td>\n",
       "      <td>No</td>\n",
       "      <td>No</td>\n",
       "      <td>Pleaded</td>\n",
       "      <td>1.0</td>\n",
       "      <td>NaN</td>\n",
       "      <td>NaN</td>\n",
       "    </tr>\n",
       "  </tbody>\n",
       "</table>\n",
       "</div>"
      ],
      "text/plain": [
       "             Record ID     Related Record Type Business Unique ID  \\\n",
       "0      11625-2023-ADJC  dcwp_InspectionRequest    BA-1329226-2022   \n",
       "50484  29359-2024-ADJC  dcwp_InspectionRequest    BA-1584310-2023   \n",
       "50485  29359-2024-ADJC  dcwp_InspectionRequest    BA-1584310-2023   \n",
       "50486  29359-2024-ADJC  dcwp_InspectionRequest    BA-1584310-2023   \n",
       "50487  29359-2024-ADJC  dcwp_InspectionRequest    BA-1584310-2023   \n",
       "50488  29360-2024-ADJC  dcwp_InspectionRequest    BA-1708227-2024   \n",
       "50490  29360-2024-ADJC  dcwp_InspectionRequest    BA-1708227-2024   \n",
       "50491  29361-2024-ADJC  dcwp_InspectionRequest    BA-1555987-2022   \n",
       "50492  29362-2024-ADJC  dcwp_InspectionRequest    BA-1628331-2023   \n",
       "50493  29362-2024-ADJC  dcwp_InspectionRequest    BA-1628331-2023   \n",
       "50495  29365-2024-ADJC  dcwp_InspectionRequest    BA-1356582-2022   \n",
       "50496  29366-2024-ADJC  dcwp_InspectionRequest    BA-1661056-2023   \n",
       "50497  29366-2024-ADJC  dcwp_InspectionRequest    BA-1661056-2023   \n",
       "50498  29366-2024-ADJC  dcwp_InspectionRequest    BA-1661056-2023   \n",
       "50500  29367-2024-ADJC  dcwp_InspectionRequest    BA-1707705-2024   \n",
       "50501  29368-2024-ADJC  dcwp_InspectionRequest    BA-1111508-2022   \n",
       "50502  29369-2024-ADJC  dcwp_InspectionRequest    BA-1657730-2023   \n",
       "50503  29369-2024-ADJC  dcwp_InspectionRequest    BA-1657730-2023   \n",
       "50505  29370-2024-ADJC  dcwp_InspectionRequest    BA-1708604-2024   \n",
       "50506  29371-2024-ADJC  dcwp_InspectionRequest    BA-1674489-2023   \n",
       "\n",
       "                               Business Name          DBA/Trade Name  \\\n",
       "0                                  HSYW INC.  7 ELEVEN STORE #32120B   \n",
       "50484      DR ZAZITO CONVENIENCE CORPORATION                     NaN   \n",
       "50485      DR ZAZITO CONVENIENCE CORPORATION                     NaN   \n",
       "50486      DR ZAZITO CONVENIENCE CORPORATION                     NaN   \n",
       "50487      DR ZAZITO CONVENIENCE CORPORATION                     NaN   \n",
       "50488         HAPPY CORK BEDSTUY CORPORATION                     NaN   \n",
       "50490         HAPPY CORK BEDSTUY CORPORATION                     NaN   \n",
       "50491                              SAJAN INC      477 NEWS & TOBACCO   \n",
       "50492                        3RD AVE VAP INC                     NaN   \n",
       "50493                        3RD AVE VAP INC                     NaN   \n",
       "50495              MIMI C BEAUTY CORPORATION       BON BEAUTY OUTLET   \n",
       "50496         MANHATTAN PARKING - GOLD CORP.                     NaN   \n",
       "50497         MANHATTAN PARKING - GOLD CORP.                     NaN   \n",
       "50498         MANHATTAN PARKING - GOLD CORP.                     NaN   \n",
       "50500              TREMONT FOOD MARKET, INC.                     NaN   \n",
       "50501                BAYSIDE FARM MARKET INC  COUNTRYBOY FARM MARKET   \n",
       "50502                 SCARLET 53 PARKING LLC    AKA Icon Parking LLC   \n",
       "50503                 SCARLET 53 PARKING LLC    AKA Icon Parking LLC   \n",
       "50505                 LAZ PARKING NY, NJ LLC                     NaN   \n",
       "50506  ATLANTIC TIRE SHOP AT 111 STREET, LLC                     NaN   \n",
       "\n",
       "                 Business Category Certificate of Inspection  \\\n",
       "0                   Grocery-Retail                  A0136715   \n",
       "50484  Electronic Cigarette Dealer                  A0186961   \n",
       "50485  Electronic Cigarette Dealer                  A0186961   \n",
       "50486  Electronic Cigarette Dealer                  A0186961   \n",
       "50487  Electronic Cigarette Dealer                  A0186961   \n",
       "50488  Electronic Cigarette Dealer                  A0186700   \n",
       "50490  Electronic Cigarette Dealer                  A0186700   \n",
       "50491  Electronic Cigarette Dealer                  A0186954   \n",
       "50492        Tobacco Retail Dealer                  A0182477   \n",
       "50493        Tobacco Retail Dealer                  A0182477   \n",
       "50495         Misc Non-Food Retail                  A0187133   \n",
       "50496                       Garage                  A0187097   \n",
       "50497                       Garage                  A0187097   \n",
       "50498                       Garage                  A0187097   \n",
       "50500        Tobacco Retail Dealer                  A0184106   \n",
       "50501             Stoop Line Stand                  A0185858   \n",
       "50502         Garage & Parking Lot                  A0187067   \n",
       "50503         Garage & Parking Lot                  A0187067   \n",
       "50505         Garage & Parking Lot                  A0187128   \n",
       "50506         Misc Non-Food Retail                  A0187116   \n",
       "\n",
       "      Inspection Number NOH Number Violation Date  \\\n",
       "0         INS-000678209   23Q02642     09/25/2023   \n",
       "50484     INS-000780808   24T04167     09/09/2024   \n",
       "50485     INS-000780808   24T04167     09/09/2024   \n",
       "50486     INS-000780808   24T04167     09/09/2024   \n",
       "50487     INS-000780808   24T04167     09/09/2024   \n",
       "50488     INS-000780230   24N02855     09/05/2024   \n",
       "50490     INS-000780230   24N02855     09/05/2024   \n",
       "50491     INS-000780783   24T04166     09/09/2024   \n",
       "50492     INS-000771631   24M02663     08/09/2024   \n",
       "50493     INS-000771631   24M02663     08/09/2024   \n",
       "50495     INS-000781156   24M03160     09/10/2024   \n",
       "50496     INS-000781094   24M03156     09/10/2024   \n",
       "50497     INS-000781094   24M03156     09/10/2024   \n",
       "50498     INS-000781094   24M03156     09/10/2024   \n",
       "50500     INS-000781150   24T04188     08/21/2024   \n",
       "50501     INS-000775326   24Q02115     08/30/2024   \n",
       "50502     INS-000781053   24M03155     09/10/2024   \n",
       "50503     INS-000781053   24M03155     09/10/2024   \n",
       "50505     INS-000781147   24M03159     09/10/2024   \n",
       "50506     INS-000781126   24Q02228     09/10/2024   \n",
       "\n",
       "                                                  Charge  Charge Count  \\\n",
       "0      NYC Admin Code § 20-910(f) - BUSINESS FAILS TO...           1.0   \n",
       "50484  NY Pub Health § 1399-MM1(2) - Selling or offer...           1.0   \n",
       "50485  NYC Admin Code § 17-706(a-1) - SOLD E-CIGARETT...           1.0   \n",
       "50486  NYC Admin Code § 17-715(b) - SOLD, OFFERED FOR...           1.0   \n",
       "50487  NYC Admin Code § 20-561(a)(1) - BUSINESS ENGAG...           1.0   \n",
       "50488  NYC Admin Code § 17-706(c) - FAILED TO POST AG...           1.0   \n",
       "50490  NYC Admin Code § 20-561(a)(1) - BUSINESS ENGAG...           1.0   \n",
       "50491  NYC Admin Code § 20-561(a)(1) - BUSINESS ENGAG...           1.0   \n",
       "50492  NYC Admin Code § 17-715(a) - SOLD, OFFERED FOR...           1.0   \n",
       "50493  NYC Admin Code § 20-202(a)(1) - BUSINESS ENGAG...           1.0   \n",
       "50495  6 RCNY § 5-37 - REFUND POLICY IS NOT POSTED  A...           1.0   \n",
       "50496  6 RCNY § 1-03(a) - DCA LICENSE/COMPLAINT SIGN ...           1.0   \n",
       "50497       6 RCNY § 2-161(g)(2)(i) - IMPROPER RATE SIGN           1.0   \n",
       "50498  6 RCNY § 2-161(h)(1) - PARKING LOT/GARAGE FAIL...           1.0   \n",
       "50500  NYC Admin Code § 20-202(a)(1) - BUSINESS ENGAG...           1.0   \n",
       "50501  NYC Admin Code § 20-233(a) -STOOP LINE STAND I...           1.0   \n",
       "50502       6 RCNY § 2-161(g)(2)(i) - IMPROPER RATE SIGN           1.0   \n",
       "50503  6 RCNY § 2-161(h)(1) - PARKING LOT/GARAGE FAIL...           1.0   \n",
       "50505  NYC Admin Code § 20-105 - Unlicensed parking l...           1.0   \n",
       "50506  6 RCNY § 5-32(c) -  RECEIPT DOES NOT INCLUDE R...           1.0   \n",
       "\n",
       "      Cure Eligible Cured           Outcome  Guilty  Not Guilty  Dismissed  \n",
       "0               NaN   NaN           Pleaded     1.0         NaN        NaN  \n",
       "50484            No   NaN  Default Decision     0.0         1.0        NaN  \n",
       "50485            No   NaN  Default Decision     1.0         NaN        NaN  \n",
       "50486            No   NaN  Default Decision     1.0         NaN        NaN  \n",
       "50487            No   NaN  Default Decision     1.0         NaN        NaN  \n",
       "50488            No   NaN           Pleaded     1.0         NaN        NaN  \n",
       "50490            No   NaN           Pleaded     1.0         NaN        NaN  \n",
       "50491            No   NaN  Default Decision     1.0         NaN        NaN  \n",
       "50492            No   NaN               NaN     NaN         NaN        NaN  \n",
       "50493            No   NaN               NaN     NaN         NaN        NaN  \n",
       "50495           Yes   Yes           Pleaded     1.0         NaN        NaN  \n",
       "50496           Yes   Yes           Pleaded     1.0         NaN        NaN  \n",
       "50497           Yes   Yes           Pleaded     1.0         NaN        NaN  \n",
       "50498            No   NaN           Pleaded     1.0         NaN        NaN  \n",
       "50500            No   NaN  Default Decision     1.0         NaN        NaN  \n",
       "50501            No   NaN  Default Decision     1.0         NaN        NaN  \n",
       "50502           Yes   NaN           Pleaded     1.0         NaN        NaN  \n",
       "50503            No   NaN           Pleaded     1.0         NaN        NaN  \n",
       "50505            No    No  Hearing Decision     1.0         NaN        NaN  \n",
       "50506            No    No           Pleaded     1.0         NaN        NaN  "
      ]
     },
     "execution_count": 60,
     "metadata": {},
     "output_type": "execute_result"
    }
   ],
   "source": [
    "DF_CHARGES.sort_values(by=[\"Charge Count\"]).head(20)"
   ]
  },
  {
   "cell_type": "code",
   "execution_count": null,
   "id": "9e5eaac9-77ad-44e7-995b-196024144226",
   "metadata": {},
   "outputs": [],
   "source": []
  }
 ],
 "metadata": {
  "kernelspec": {
   "display_name": "Python [conda env:base] *",
   "language": "python",
   "name": "conda-base-py"
  },
  "language_info": {
   "codemirror_mode": {
    "name": "ipython",
    "version": 3
   },
   "file_extension": ".py",
   "mimetype": "text/x-python",
   "name": "python",
   "nbconvert_exporter": "python",
   "pygments_lexer": "ipython3",
   "version": "3.12.7"
  }
 },
 "nbformat": 4,
 "nbformat_minor": 5
}
